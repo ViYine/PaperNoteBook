{
 "cells": [
  {
   "cell_type": "markdown",
   "metadata": {},
   "source": [
    "## 通过无线Ad-Hoc路由协议的直接执行进行仿真验证\n",
    "\n",
    "### abstract\n",
    "\n",
    "In this paper, we use direct-execution simulation to validate radio models used by ad-hoc routing protocols, against real-world experiments.\n",
    "\n",
    "介绍了一种在无线网络模拟器中支持直接执行一组自组织路由协议实现的通用测试平台。试验台读取从真实实验中生成的跟踪，并使用它们驱动路由协议的直接执行。这样就能产生和真实网络环境中同样的网络条件，通过比较在真实环境和仿真环境中路由协议的行为，可以对使用的无线网络仿真模型进行验证。\n",
    "\n",
    "### introduction\n",
    "\n",
    "当将部署在真实系统中的路由协议作为一个独立的代码库来实现和维护时，验证问题就被放大了。直接执行模拟通过直接在无线网络模拟器中执行为实际系统设计的相同代码，从而解决了为相同路由协议维护单独的代码库的问题。\n"
   ]
  },
  {
   "cell_type": "markdown",
   "metadata": {},
   "source": [
    "Implementation and Validation of an LTE D2D Model for ns-3我们还通过将仿真结果与D2D通信中开发的分析模型进行比较，对每个特性进行验证"
   ]
  },
  {
   "cell_type": "markdown",
   "metadata": {},
   "source": [
    "## Implementation and Validation of an LTE D2D Model for ns-3\n",
    "\n",
    "### abstract\n",
    "\n",
    "We also provide validation of each feature by comparing simulation results with analytical models developed as part of our work on D2D communication.\n",
    "\n"
   ]
  },
  {
   "cell_type": "markdown",
   "metadata": {},
   "source": [
    "### Algorithm for model validation: Theory and applications\n",
    "\n"
   ]
  },
  {
   "cell_type": "markdown",
   "metadata": {},
   "source": [
    "## Position Paper on Validation of Network simulation models"
   ]
  },
  {
   "cell_type": "markdown",
   "metadata": {},
   "source": [
    "## Model Validation and Testing in Simulation: a Literature Review"
   ]
  },
  {
   "cell_type": "markdown",
   "metadata": {},
   "source": [
    "## Performance, validation and testing with the Network Simulation Cradle\n"
   ]
  },
  {
   "cell_type": "markdown",
   "metadata": {},
   "source": [
    "## A Framework for Validation of Network-based Simulation Models: an Application to Modeling Interventions of Pandemics\n"
   ]
  },
  {
   "cell_type": "markdown",
   "metadata": {},
   "source": [
    "## Measurement and Characterization of Network Traffic Utilization between Real Network and Simulation Modeling in Heterogeneous Environment"
   ]
  },
  {
   "cell_type": "markdown",
   "metadata": {},
   "source": [
    "## Using Measurements to Validate Simulation Models of TCP/IP over High Speed ATM Wide Area Networks"
   ]
  },
  {
   "cell_type": "code",
   "execution_count": null,
   "metadata": {
    "collapsed": true
   },
   "outputs": [],
   "source": []
  }
 ],
 "metadata": {
  "kernelspec": {
   "display_name": "Python 3",
   "language": "python",
   "name": "python3"
  },
  "language_info": {
   "codemirror_mode": {
    "name": "ipython",
    "version": 3
   },
   "file_extension": ".py",
   "mimetype": "text/x-python",
   "name": "python",
   "nbconvert_exporter": "python",
   "pygments_lexer": "ipython3",
   "version": "3.6.3"
  }
 },
 "nbformat": 4,
 "nbformat_minor": 2
}
