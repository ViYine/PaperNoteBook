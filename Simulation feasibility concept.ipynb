{
 "cells": [
  {
   "cell_type": "markdown",
   "metadata": {},
   "source": [
    "# 仿真可信度的概念\n",
    "\n",
    "## 1. 可信度和逼真度\n",
    "\n",
    "仿真总是希望得到的仿真结果与原型系统的输出一致，但由于仿真的不完整性和不确定性，仿真结果和相同输入条件下的仿真对象的响应状态存在一定的差别，即仿真误差。因此，通常用<font color='red' size=3.4>逼真度和可信度</font>来<font color='blue' size=3.4>描述仿真结果的评估状态</font>。\n",
    "\n",
    "\n",
    "逼真度定义:\n",
    "    逼真度是仿真对仿真对象某个侧面或者整体的外部状态和行为的复现程度。\n",
    "    \n",
    "    1) 逼真度描述仿真对仿真对象的复现程度，而不是仿真对某种特定应用需求的满足程度。\n",
    "    2) 逼真度考察的是仿真系统或者子系统的外在特性（输入和输出之间关系），而非系统或者子系统本身的实现方式和手段。\n",
    "\n",
    "\n",
    "可信度定义：\n",
    "    可信度是由仿真系统与原型系统之间的相似性决定，表征仿真系统与仿真目的的适应的程度。\n",
    "    \n",
    "    1) 仿真系统可信度的主体是仿真系统的使用者，反映了仿真系统使用者应用仿真系统的一种相信程度。\n",
    "    2) 仿真系统的可信度受到仿真系统所处的外界环境因素的限制，反应的是真实世界的一部分的适应程度。\n",
    "    3）仿真系统的输入是在一定条件下获得的，因此仿真结果的正确性受输入条件的影响。\n",
    "    4）仿真系统可信度是解决所定义问题的正确性在仿真系统使用者头脑中的反映，问题越明确，仿真系统可信度越高。\n",
    "    \n",
    "    \n",
    "逼真度描述仿真系统与原型系统外在的相似程度，解决仿真\"像或不像\"的问题；可信度是用来表示仿真与仿真目的的适应程度，反应仿真与仿真对象的差别对仿真可用性的影响程度。\n",
    "\n",
    "## 2. 可信度的性质\n",
    "\n",
    "\n",
    "- 目的相关性：仿真可信度与研制仿真系统的目的紧密相关，同一个仿真系统，仿真的目的不同所表现出来的可信度也不同。\n",
    "- 客观性：对于一个具体的具有明确应用目的的仿真系统，其仿真可信度应该是确定的。\n",
    "- 综合性：仿真可信度是仿真模型、算法、通信、数据库以及硬件设备等多种因素的综合反映。\n",
    "- 层次性: 仿真系统由若干个子系统构成，各个子系统也存在仿真可信度的问题，子系统的可信度必然会反映在整个系统的可信度中。"
   ]
  },
  {
   "cell_type": "markdown",
   "metadata": {},
   "source": [
    "# Error Analysis and Simulations of Complex Phenomena\n",
    "\n",
    "```\n",
    "Large-scale computer-based simulations are being used increasingly to predict the behavior of\n",
    "complex systems. Prime examples include the weather, global climate change, the performance\n",
    "of nuclear weapons, the flow through an oil reservoir, and the performance of advanced aircraft.\n",
    "Simulations invariably involve theory, experimental data, and numerical modeling, all with their\n",
    "attendant errors. It is thus natural to ask, “Are the simulations believable?” “How does one assess the\n",
    "accuracy and reliability of the results?” This article lays out methodologies for analyzing and combining\n",
    "the various types of errors that can occur and then gives three concrete examples of how error\n",
    "models are constructed and used.\n",
    "```\n",
    "\n",
    "## Source of Simulation Error\n",
    "\n",
    "\n",
    "- Input: Input Error refer to errors in data used to specify the problem, and they include errors in **material properties**, the description of geometrical configurations, boundary and initial conditions, and others.\n",
    "\n",
    "- Solution: Solution Error is the difference between the exact mathematical solution of the governing equations for the model and the approximate solution of the equations obtained with the numerical algorithms used in the simulation.\n",
    "\n",
    "- Physics model : Physics error includes the effects of phenomena that are inadequately represeented in the simulation. Evaluations of effects of these details are typically based on statistical descriptions. The physics component of an error model is thus based on knowledge of aspects of the nominal model that need or might need correction."
   ]
  },
  {
   "cell_type": "markdown",
   "metadata": {},
   "source": [
    "# Solution Errors and Exprimental Error\n",
    "\n",
    "## Exprimental Error\n",
    "\n",
    "### 1. Random Error\n",
    "\n",
    "### 2. Systematic Error\n",
    "\n",
    "## Solution Error"
   ]
  },
  {
   "cell_type": "markdown",
   "metadata": {},
   "source": [
    "# Using Data to Constrain Models\n",
    "\n",
    "对于复杂系统来说，数据的可用性是一个很重要的问题，并且数据限制渗透到提高基于仿真的预测的过程中。因此，尽管在实验设计和测量技术上存在差异，但使用所有相关数据是非常重要的。这意味着，重要的是要有一种方法来组合来自不同来源的数据，并理解导致可预测性限制的各种错误的重要性。如果实验重复多次，误差就会出现分布，这些误差的概率密度函数就是估计的不确定性。\n",
    "\n",
    "## Decomposition of Errors\n",
    "\n",
    "下面的三个步骤可以作为模拟和实验之间差异的初步确定性评估\n",
    "\n",
    "1. Compare Simulated and Experiment Results.\n",
    "2. Evaluate Solution Errors\n",
    "3. Determine Impact on Predictability\n"
   ]
  },
  {
   "cell_type": "markdown",
   "metadata": {},
   "source": [
    "# Statistical Prediction\n",
    "\n",
    "A major challenge of statistical prediction is assessing the uncertaionty in a predicted result.在给定仿真模型的情况下，这一问题减少了从仿真输入到仿真结果的误差传播。有许多方法可以评估最重要的输入参数.对偏导数的敏感性可以用数值方法计算，也可以用伴随法计算。伴随方法允许在合理的时间内计算灵敏度，并且被广泛使用。\n",
    "\n",
    "## Statistical Inference -- The Bayesian Framework\n",
    "\n",
    "统计推断的贝叶斯框架提供了一个系统的程序，用于在新信息的基础上更新系统的当前知识。\n",
    "\n",
    "重要的是要意识到\n",
    "贝叶斯过程不决定p(m)的选择。因此，在使用贝叶斯分析时，必须从独立的数据源或更基本的理论中提供先验，否则，必须使用非信息性的“平面”先验"
   ]
  }
 ],
 "metadata": {
  "kernelspec": {
   "display_name": "Python 3",
   "language": "python",
   "name": "python3"
  },
  "language_info": {
   "codemirror_mode": {
    "name": "ipython",
    "version": 3
   },
   "file_extension": ".py",
   "mimetype": "text/x-python",
   "name": "python",
   "nbconvert_exporter": "python",
   "pygments_lexer": "ipython3",
   "version": "3.6.3"
  }
 },
 "nbformat": 4,
 "nbformat_minor": 2
}
