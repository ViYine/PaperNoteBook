{
 "cells": [
  {
   "cell_type": "markdown",
   "metadata": {},
   "source": [
    "# KL散度理解 --- 从熵到交叉熵到KL散度\n",
    "\n",
    "\n",
    "## 1 熵的定义：\n",
    "\n",
    "  离散概率分布：$${H(p) = - \\sum_{i} p_i \\log_2 p_i}$$\n",
    "  连续概率分布：$${H(p) = - \\int_{-\\infty}^{\\infty} p_i \\log_2 p_i}$$\n",
    "  \n",
    "  熵的物理意义：消息平均不确定性的度量\n",
    "  \n",
    "\n",
    "## 2 交叉熵：\n",
    "\n",
    " wiki：\n",
    " ```\n",
    " Cross entropy between two probability distributions p and q over the same underlying set of events measures the average number of bits needed to identify an event drawn from the set, if a coding scheme is used that is optimized for an “unnatural” probability distribution q, rather than the “true” distribution p.\n",
    " ```\n",
    " \n",
    " 离散概率分布：$${H(p,q) = - \\sum_{i} p_i \\log_2 q_i}$$\n",
    " 连续概率分布: $${H(p,q) = - \\int_{-\\infty}^{\\infty} p_i \\log_2 q_i}$$\n",
    " \n",
    " 考虑有两个概率分布，p代表真实的概率分布，q代表预测的概率分布。p和q都是对同样时间空间的概率分布。\n",
    " \n",
    " 熵表示的是使用自身的概率分布来计算需要传输一个消息的最优/平均的bits，如果我们用q的概率分布来设计一个来自p的信息的编码，然后最优/平均的bits为交叉熵。从交叉熵可以看出，两个概率分布越接近，他们的熵越接近。\n",
    " \n",
    "## 3 KL散度\n",
    "\n",
    " KL散度就是需要的额外比特数，如果用一个分布的概率分布q来编码由另一个分布p表示的信息。\n",
    " \n",
    " $${ KLD = crossentropy - entropy = H(p,q) - H(p) }$$\n",
    " \n",
    " 离散概率分布:$${KLD = \\sum_{i} p_i \\log_2(\\frac{p_i}{q_i})}$$\n",
    " 连续概率分布：$${KLD = \\int_{-\\infty}^{\\infty} p_i \\log_2(\\frac{p_i}{q_i})}$$"
   ]
  },
  {
   "cell_type": "code",
   "execution_count": 6,
   "metadata": {},
   "outputs": [],
   "source": [
    "def entropy(X):\n",
    "    import math\n",
    "    return -sum([x_i * math.log(x_i,2) for x_i in X])\n",
    "\n",
    "def cross_entropy(p,q):\n",
    "    import math\n",
    "    return -sum([p_i * math.log(q_i,2) for p_i, q_i in zip(p,q)])\n",
    "\n",
    "def KLD(p,q):\n",
    "    return cross_entropy(p,q) - entropy(p)"
   ]
  },
  {
   "cell_type": "code",
   "execution_count": 4,
   "metadata": {},
   "outputs": [
    {
     "data": {
      "text/plain": [
       "1.4854752972273344"
      ]
     },
     "execution_count": 4,
     "metadata": {},
     "output_type": "execute_result"
    }
   ],
   "source": [
    "entropy([0.2,0.3,0.5])"
   ]
  },
  {
   "cell_type": "code",
   "execution_count": 7,
   "metadata": {},
   "outputs": [
    {
     "data": {
      "text/plain": [
       "2.6604571104758414"
      ]
     },
     "execution_count": 7,
     "metadata": {},
     "output_type": "execute_result"
    }
   ],
   "source": [
    "cross_entropy([0.1,0.2,0.7],[0.2,0.7,0.1])"
   ]
  },
  {
   "cell_type": "code",
   "execution_count": 8,
   "metadata": {},
   "outputs": [
    {
     "data": {
      "text/plain": [
       "1.503677461028802"
      ]
     },
     "execution_count": 8,
     "metadata": {},
     "output_type": "execute_result"
    }
   ],
   "source": [
    "KLD([0.1,0.2,0.7],[0.2,0.7,0.1])"
   ]
  },
  {
   "cell_type": "code",
   "execution_count": null,
   "metadata": {
    "collapsed": true
   },
   "outputs": [],
   "source": []
  }
 ],
 "metadata": {
  "kernelspec": {
   "display_name": "Python 3",
   "language": "python",
   "name": "python3"
  },
  "language_info": {
   "codemirror_mode": {
    "name": "ipython",
    "version": 3
   },
   "file_extension": ".py",
   "mimetype": "text/x-python",
   "name": "python",
   "nbconvert_exporter": "python",
   "pygments_lexer": "ipython3",
   "version": "3.6.3"
  }
 },
 "nbformat": 4,
 "nbformat_minor": 2
}
